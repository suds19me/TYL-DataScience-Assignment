{
  "nbformat": 4,
  "nbformat_minor": 0,
  "metadata": {
    "colab": {
      "provenance": [],
      "authorship_tag": "ABX9TyMdRQNcTM+rOAymJJhDTlf0",
      "include_colab_link": true
    },
    "kernelspec": {
      "name": "python3",
      "display_name": "Python 3"
    },
    "language_info": {
      "name": "python"
    }
  },
  "cells": [
    {
      "cell_type": "markdown",
      "metadata": {
        "id": "view-in-github",
        "colab_type": "text"
      },
      "source": [
        "<a href=\"https://colab.research.google.com/github/suds19me/TYL-DataScience-Assignment/blob/main/spamSMS.ipynb\" target=\"_parent\"><img src=\"https://colab.research.google.com/assets/colab-badge.svg\" alt=\"Open In Colab\"/></a>"
      ]
    },
    {
      "cell_type": "code",
      "source": [
        "import pandas as pd\n",
        "import re\n",
        "from nltk.corpus import stopwords\n",
        "from sklearn import svm"
      ],
      "metadata": {
        "id": "oKGxiBUhb8EA"
      },
      "execution_count": 108,
      "outputs": []
    },
    {
      "cell_type": "code",
      "source": [
        "email=pd.read_csv(\"spam.csv\",encoding='latin-1')\n",
        "email=email.rename(columns = {'v1':'label','v2':'message'})\n",
        "email = email.drop(columns=['Unnamed: 2','Unnamed: 3','Unnamed: 4'], axis=1)"
      ],
      "metadata": {
        "id": "BKxiCiZRkt4B"
      },
      "execution_count": 109,
      "outputs": []
    },
    {
      "cell_type": "code",
      "source": [
        "email=email.dropna(axis=0, how='any')"
      ],
      "metadata": {
        "id": "oeaA1Fw1lNl8"
      },
      "execution_count": 110,
      "outputs": []
    },
    {
      "cell_type": "code",
      "source": [
        "num_emails=email[\"message\"].size\n",
        "def email_processing(raw_email):\n",
        "    letters_only=re.sub(\"[^a-zA-Z]\",\" \",raw_email)\n",
        "    words=letters_only.lower().split()\n",
        "    stops=set(stopwords.words(\"english\"))\n",
        "    m_w=[w for w in words if not w in stops]\n",
        "    return (\" \".join(m_w))"
      ],
      "metadata": {
        "id": "BFyqzS_mlQ7f"
      },
      "execution_count": 111,
      "outputs": []
    },
    {
      "cell_type": "code",
      "source": [
        "nltk.download('stopwords')\n",
        "clean_email=[]\n",
        "for i in range(0,num_emails):\n",
        "    clean_email.append(email_processing(email[\"message\"][i]))"
      ],
      "metadata": {
        "colab": {
          "base_uri": "https://localhost:8080/"
        },
        "id": "XSgt2Eu-lU0P",
        "outputId": "aaf39efa-0579-42d7-9926-eca4661a7509"
      },
      "execution_count": 112,
      "outputs": [
        {
          "output_type": "stream",
          "name": "stderr",
          "text": [
            "[nltk_data] Downloading package stopwords to /root/nltk_data...\n",
            "[nltk_data]   Package stopwords is already up-to-date!\n"
          ]
        }
      ]
    },
    {
      "cell_type": "code",
      "source": [
        "#Create new dataframe column\n",
        "email[\"Processed_Msg\"]=clean_email\n",
        "cols2=[\"Processed_Msg\",\"label\"]\n",
        "email=email[cols2]"
      ],
      "metadata": {
        "id": "SlqKhpmclqIP"
      },
      "execution_count": 113,
      "outputs": []
    },
    {
      "cell_type": "code",
      "source": [
        "#Create train and test sets\n",
        "X_train=email[\"Processed_Msg\"][:5000]\n",
        "Y_train=email[\"label\"][:5000]\n",
        "X_test=email[\"Processed_Msg\"][5001:5500]\n",
        "Y_test=email[\"label\"][5001:5500]"
      ],
      "metadata": {
        "id": "7fk_18uenuI7"
      },
      "execution_count": 114,
      "outputs": []
    },
    {
      "cell_type": "code",
      "source": [
        "import numpy as np\n",
        "from sklearn.feature_extraction.text import CountVectorizer\n",
        "vectorizer=CountVectorizer(analyzer = \"word\",tokenizer = None,preprocessor = None,stop_words = None,max_features = 5000)"
      ],
      "metadata": {
        "id": "O7QNIrHcny2x"
      },
      "execution_count": 115,
      "outputs": []
    },
    {
      "cell_type": "code",
      "source": [
        "train_data_features=vectorizer.fit_transform(X_train)\n",
        "train_data_features=train_data_features.toarray()\n",
        "\n",
        "test_data_features=vectorizer.transform(X_test)\n",
        "test_data_features=test_data_features.toarray()"
      ],
      "metadata": {
        "id": "ULUesmM9n7PV"
      },
      "execution_count": 116,
      "outputs": []
    },
    {
      "cell_type": "code",
      "source": [
        "#SVM with linear kernel\n",
        "clf=svm.SVC(kernel='linear',C=1.0)\n",
        "print (\"Training\")\n",
        "clf.fit(train_data_features,Y_train)\n",
        "\n",
        "print (\"Testing\")\n",
        "predicted=clf.predict(test_data_features)\n",
        "accuracy=np.mean(predicted==Y_test)\n",
        "print (\"Accuracy: \",accuracy)\n"
      ],
      "metadata": {
        "colab": {
          "base_uri": "https://localhost:8080/"
        },
        "id": "rChFpIh4n9iZ",
        "outputId": "959ce047-488e-47fd-8729-1f46b9c6cb78"
      },
      "execution_count": 117,
      "outputs": [
        {
          "output_type": "stream",
          "name": "stdout",
          "text": [
            "Training\n",
            "Testing\n",
            "Accuracy:  0.9879759519038076\n"
          ]
        }
      ]
    },
    {
      "cell_type": "code",
      "source": [
        "#Validation\n",
        "X=email[\"Processed_Msg\"][5504:5505]\n",
        "validation_data=vectorizer.transform(X)\n",
        "validation_data=validation_data.toarray()\n",
        "\n",
        "print (\"SMS: \",X)\n",
        "classification=clf.predict(validation_data)\n",
        "print (\"Classification: \",classification)"
      ],
      "metadata": {
        "colab": {
          "base_uri": "https://localhost:8080/"
        },
        "id": "y1CABuusoAmb",
        "outputId": "6042065e-dba1-45f8-8bfd-cb24457554cf"
      },
      "execution_count": 118,
      "outputs": [
        {
          "output_type": "stream",
          "name": "stdout",
          "text": [
            "SMS:  5504    wait msg lt gt min\n",
            "Name: Processed_Msg, dtype: object\n",
            "Classification:  ['ham']\n"
          ]
        }
      ]
    },
    {
      "cell_type": "code",
      "source": [],
      "metadata": {
        "id": "aZE7b2OooKCd"
      },
      "execution_count": 118,
      "outputs": []
    }
  ]
}